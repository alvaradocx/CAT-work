{
 "cells": [
  {
   "cell_type": "markdown",
   "metadata": {},
   "source": [
    "### Percent out known\n",
    "Example use: \n",
    "* Check on body % known after completing orphan link work <br>\n",
    "\n",
    "\n",
    "Original: Marissa Dreher <br>\n",
    "Modifications: Nicole Kirk and Chelsea Alvarado"
   ]
  },
  {
   "cell_type": "markdown",
   "metadata": {},
   "source": [
    "#### Import libraries"
   ]
  },
  {
   "cell_type": "code",
   "execution_count": null,
   "metadata": {},
   "outputs": [],
   "source": [
    "import neuprint as neu\n",
    "import pandas as pd\n",
    "import numpy as np"
   ]
  },
  {
   "cell_type": "markdown",
   "metadata": {},
   "source": [
    "#### Access Neuprint\n",
    "An authorization token is required. If you don't already have one, go to [Neuprint](https://neuprint.janelia.org/?dataset=hemibrain:v1.2.1&qt=findneurons) and sign up for an account."
   ]
  },
  {
   "cell_type": "code",
   "execution_count": 1,
   "metadata": {},
   "outputs": [],
   "source": [
    "from neuprint import Client\n",
    "c = Client('', dataset='', token=\"\") #parameter order: url of neuprint server, dataset = version of dataset, authorization token"
   ]
  },
  {
   "cell_type": "markdown",
   "metadata": {},
   "source": [
    "#### Run Neuprint Query\n",
    "1. Provide the list of bodies you want to get results for\n",
    "2. The Neuprint query can be modified as needed. The default query will calculate the percentage of downstream neurons that have a body status of traced or leaves."
   ]
  },
  {
   "cell_type": "code",
   "execution_count": null,
   "metadata": {},
   "outputs": [],
   "source": [
    "bodylist = []\n",
    "total_percent_query = f\"WITH {bodylist} AS IDS \\\n",
    "            UNWIND IDS as ID \\\n",
    "            MATCH (n:`Neuron`)-[w:ConnectsTo]->(m) \\\n",
    "            WHERE n.bodyId = ID \\\n",
    "            WITH n, sum(w.weight) AS totalW \\\n",
    "            MATCH (n)-[w:ConnectsTo]->(m) \\\n",
    "            WHERE (m.status=~\\\".*raced\\\" OR m.status=\\\"Leaves\\\") \\\n",
    "            WITH n, totalW, sum(w.weight) AS completeW \\\n",
    "            RETURN n.bodyId, completeW, totalW, (completeW*1.0)/(totalW)*100 AS percent\"\n",
    "\n",
    "percentages = c.fetch_custom(total_percent_query)\n",
    "percentages # prints out into notebook"
   ]
  },
  {
   "cell_type": "markdown",
   "metadata": {},
   "source": [
    "#### Export Results\n",
    "Make sure to change the file name! It will overwrite any previous results you wrote before. The output file will be stored in the location of this notebook."
   ]
  },
  {
   "cell_type": "code",
   "execution_count": null,
   "metadata": {},
   "outputs": [],
   "source": [
    "percentages.to_csv('PUT FILE NAME HERE.csv')"
   ]
  }
 ],
 "metadata": {
  "kernelspec": {
   "display_name": "Python 3",
   "language": "python",
   "name": "python3"
  },
  "language_info": {
   "codemirror_mode": {
    "name": "ipython",
    "version": 3
   },
   "file_extension": ".py",
   "mimetype": "text/x-python",
   "name": "python",
   "nbconvert_exporter": "python",
   "pygments_lexer": "ipython3",
   "version": "3.7.6"
  }
 },
 "nbformat": 4,
 "nbformat_minor": 4
}
