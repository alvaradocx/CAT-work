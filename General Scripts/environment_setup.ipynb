{
 "cells": [
  {
   "cell_type": "markdown",
   "metadata": {},
   "source": [
    "## Keep your access key/authorization token secret! .env Files\n",
    "#### Chelsea Alvarado\n"
   ]
  },
  {
   "cell_type": "markdown",
   "metadata": {},
   "source": [
    "It is important to keep your authorization token secret! While it won't particularly matter if you're sharing your files between Janelians or other lab members it is good practice. If you're going to share scripts to the general public/non-Janelians/non-lab members) you should do this!"
   ]
  },
  {
   "cell_type": "markdown",
   "metadata": {},
   "source": [
    "#### Step 1: Create your.env file\n",
    "This can be done within jupyter lab."
   ]
  },
  {
   "cell_type": "markdown",
   "metadata": {},
   "source": [
    "First, right click anywhere within the notebook and in the drop down menu select \"New Console for Notebook\". A console should then appear on the bottom protion of the notebook and look like the image below\n",
    "<img src = "env_console_example.png" width = "750"> ![](env_console_example.png)"
   ]
  },
  {
   "cell_type": "markdown",
   "metadata": {},
   "source": [
    "Next, import the necessary package ```import os``` and use ```os.getcwd()``` to verify your current working directory. You want your .env file and your script to be in the same location. <br> \n",
    "In the console you've opened type the following command to create the empty .env file. Use the appropiate command based on your operating system by commenting and uncommenting what works for your system. \n",
    "<br>\n",
    "Hit **shift-enter** to run the command in the console, not **ctrl-enter**.\n"
   ]
  },
  {
   "cell_type": "code",
   "execution_count": null,
   "metadata": {},
   "outputs": [],
   "source": [
    "import os\n",
    "os.getcwd()"
   ]
  },
  {
   "cell_type": "code",
   "execution_count": null,
   "metadata": {},
   "outputs": [],
   "source": [
    "# windows\n",
    "!echo> .env\n",
    "\n",
    "# mac/linux/unix\n",
    "#!touch .env"
   ]
  },
  {
   "cell_type": "markdown",
   "metadata": {},
   "source": [
    "#### Step 2: Writing in to your .env File\n",
    "Locate your .env file (should be in your cwd). If it doesn't show up it is possible that your system is treating it as a hidden file; For windows users follow these [instructions](https://support.microsoft.com/en-us/windows/show-hidden-files-0320fe58-0117-fd59-6851-9b7f9840fdb2). Mac users can use their file finder and press **'Shift-Command-Period'** to display hidden files.\n",
    "<br>\n",
    "You should find your .env file and it will be an empty text file. On windows you can open this file using Notepad. Type in your keys/codes/tokens and give them variable names to reference. Make sure to save your file!\n",
    "<img src = "fill_env.png" width = "750"> ![](fill_env.png)"
   ]
  },
  {
   "cell_type": "markdown",
   "metadata": {},
   "source": [
    "*Example*: ``` SecretKey = snourno7bvsor90oeibfs4 ``` **Note**: The key is not in quotes"
   ]
  },
  {
   "cell_type": "markdown",
   "metadata": {},
   "source": [
    "#### Step 3: Use your Keys in your Python Script!\n",
    "Use the library ```dotenv```. If you do not have it installed you can use:\n",
    "* ```pip install dotenv``` \n",
    "* ```sudo pip install python-dotenv```\n",
    "* ```conda install -c conda-forge python-dotenv```\n",
    "\n",
    "You may have to restart your computer after installing to ensure everything is up to date and functioning. <br>\n",
    "The following code will bring your key(s) into python memory. Just add this into the script you're working with."
   ]
  },
  {
   "cell_type": "code",
   "execution_count": null,
   "metadata": {},
   "outputs": [],
   "source": [
    "import dotenv\n",
    "dotenv.load_dotenv()\n",
    "\n",
    "# declare variables to store retrieved key(s)\n",
    "\n",
    "first_key = os.getenv('SecretKey')\n",
    "second_key = os.getenv('authToken')"
   ]
  },
  {
   "cell_type": "markdown",
   "metadata": {},
   "source": [
    "You can check that the key(s) were succesfully retrieved by typing your variable name into a cell and running it."
   ]
  },
  {
   "cell_type": "code",
   "execution_count": null,
   "metadata": {},
   "outputs": [],
   "source": [
    "first_key # in our example would print out 'snourno7bvsor90oeibfs4'"
   ]
  },
  {
   "cell_type": "markdown",
   "metadata": {},
   "source": [
    "You can now use your saved keys in your script or across scripts while keeping your super secret information private!"
   ]
  }
 ],
 "metadata": {
  "kernelspec": {
   "display_name": "Python 3",
   "language": "python",
   "name": "python3"
  },
  "language_info": {
   "codemirror_mode": {
    "name": "ipython",
    "version": 3
   },
   "file_extension": ".py",
   "mimetype": "text/x-python",
   "name": "python",
   "nbconvert_exporter": "python",
   "pygments_lexer": "ipython3",
   "version": "3.7.6"
  }
 },
 "nbformat": 4,
 "nbformat_minor": 4
}
