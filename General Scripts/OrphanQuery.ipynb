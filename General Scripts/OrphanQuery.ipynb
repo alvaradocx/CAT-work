{
 "cells": [
  {
   "cell_type": "markdown",
   "metadata": {},
   "source": [
    "## Orphan Query\n",
    "Original: Marissa Dreher <br>\n",
    "Modifications: Chelsea Alvarado"
   ]
  },
  {
   "cell_type": "markdown",
   "metadata": {},
   "source": [
    "#### Import libraries and packages\n",
    "Use https://neuprint-pre.janelia.org/ as server for production work. If you need to access older datasets make sure to use the appropiate 'dataset' value i.e. 'hemibrain'"
   ]
  },
  {
   "cell_type": "code",
   "execution_count": null,
   "metadata": {},
   "outputs": [],
   "source": [
    "import pandas as pd\n",
    "import numpy as np\n",
    "import neuprint as neu\n",
    "import json\n",
    "\n",
    "from neuprint import Client\n",
    "c = Client('', dataset='', token='', verify = False) \n"
   ]
  },
  {
   "cell_type": "markdown",
   "metadata": {},
   "source": [
    "#### Setup"
   ]
  },
  {
   "cell_type": "code",
   "execution_count": 2,
   "metadata": {},
   "outputs": [],
   "source": [
    "d = pd.DataFrame() # creates and empty dataframe for use later on\n",
    "total_goal_percent = 0.45 # total_goal_percent = goal percent for total output completeness\n",
    "\n",
    "#Use this line to import list of body IDs from json file \n",
    "#body_list = json.load(open(\"Core_CX_neurons.json\"))\n",
    "\n",
    "body_list = [] # body_list = list of body IDs, can be imported from json file in format [###, ###, ###]"
   ]
  },
  {
   "cell_type": "markdown",
   "metadata": {},
   "source": [
    "### Completeness Query (All ROIs)"
   ]
  },
  {
   "cell_type": "code",
   "execution_count": null,
   "metadata": {},
   "outputs": [],
   "source": [
    "total_percent_query = f\"WITH {body_list} AS IDS \\\n",
    "            UNWIND IDS as ID \\\n",
    "            MATCH (n:Neuron)-[w:ConnectsTo]->(m) \\\n",
    "            WHERE n.bodyId = ID \\\n",
    "            WITH n, sum(w.weight) AS totalW \\\n",
    "            MATCH (n)-[w:ConnectsTo]->(m) \\\n",
    "            WHERE (m.status=~\\\".*raced\\\" OR m.status=\\\"Leaves\\\") \\\n",
    "            WITH n, totalW, sum(w.weight) AS completeW \\\n",
    "            RETURN n.bodyId, n.instance, completeW, totalW, (completeW*1.0)/(totalW)*100 AS percent\"\n",
    "\n",
    "percentages = c.fetch_custom(total_percent_query)\n",
    "percentages"
   ]
  },
  {
   "cell_type": "markdown",
   "metadata": {},
   "source": [
    "#### Export out results"
   ]
  },
  {
   "cell_type": "code",
   "execution_count": null,
   "metadata": {},
   "outputs": [],
   "source": [
    "percentages.to_csv(\"INSERT FILE NAME.csv\", index = False)"
   ]
  },
  {
   "cell_type": "markdown",
   "metadata": {},
   "source": [
    "### Orphan Queries \n",
    "sum_query = the total number of outputs (TOTAL_WEIGHT) and the number of outputs to complete bodies (COMPLETE_WEIGHT)\n",
    "\n",
    "orphan_query = fragments downstream of body ID. First query includes orphans, second query excludes orphans "
   ]
  },
  {
   "cell_type": "code",
   "execution_count": 3,
   "metadata": {},
   "outputs": [],
   "source": [
    "sum_query = (\n",
    "    'MATCH (input:Neuron)-[w:ConnectsTo]->(output) \\n'\n",
    "    'WHERE input.bodyId = {ID} \\n'\n",
    "    'WITH input, sum(w.weight) AS TOTAL_WEIGHT \\n'\n",
    "    'MATCH (input)-[w:ConnectsTo]->(output) \\n'\n",
    "    'WHERE output.status =~ \".*raced\" OR output.status = \"Leaves\" \\n'\n",
    "    'RETURN input.bodyId, TOTAL_WEIGHT, sum(w.weight) AS COMPLETE_WEIGHT')\n",
    "    \n",
    "#Can add or remove statuses first WHERE clause to change results\n",
    "orphan_query = (\n",
    "    'MATCH (input:`Neuron`)-[w:ConnectsTo]->(output) \\n'\n",
    "    'WHERE input.bodyId = {ID} AND NOT output.status =~ \".*raced\" AND NOT output.status = \"Leaves\" AND NOT output.status = \"Orphan hotknife\" AND NOT output.status = \"Unimportant\" AND NOT output.status = \"Orphan\" AND NOT output.status = \"Orphan-artifact\"'\n",
    "    'RETURN input.bodyId, output.bodyId AS ID, output.status, w.weight AS W, output.post AS POST \\n'\n",
    "    'ORDER BY W DESC, POST DESC \\n'\n",
    "    'UNION \\n'\n",
    "    'MATCH (input:`Neuron`)-[w:ConnectsTo]->(output) \\n'     \n",
    "    'WHERE input.bodyId = {ID} AND output.status IS NULL AND w.weight = 1 \\n'\n",
    "    'RETURN input.bodyId, output.bodyId AS ID, output.status, w.weight AS W, output.post AS POST \\n'\n",
    "    'ORDER BY W DESC, POST DESC')"
   ]
  },
  {
   "cell_type": "code",
   "execution_count": 4,
   "metadata": {},
   "outputs": [],
   "source": [
    "for body_id in body_list:\n",
    "    OL_list = []\n",
    "    num = 0\n",
    "    \n",
    "    q = sum_query.format(ID=body_id)\n",
    "    counts = c.fetch_custom(q)\n",
    "    #print(q)\n",
    "    \n",
    "    total = counts.at[0, 'TOTAL_WEIGHT']\n",
    "    complete = counts.at[0, 'COMPLETE_WEIGHT']\n",
    "    goal = (total*total_goal_percent) - complete\n",
    "\n",
    "    p = orphan_query.format(ID=body_id)\n",
    "    orphans = c.fetch_custom(p)\n",
    "   \n",
    "    for idx, row in orphans.iterrows():\n",
    "        if num < goal:\n",
    "            OL_list.append(row[\"ID\"])\n",
    "            num += row[\"W\"]\n",
    "        else:\n",
    "            continue\n",
    "    \n",
    "    #length = len(OL_list) - 1\n",
    "    #orphans = orphans.truncate(after=length)\n",
    "    #print(orphans)\n",
    "    \n",
    "    #Write downstream orphans to file\n",
    "    #orphans.to_csv(\"Downstream_orphans_withNums.csv\")\n",
    "    \n",
    "    orphs = pd.DataFrame({body_id : OL_list})\n",
    "    \n",
    "    d = pd.concat([d,orphs], axis=1)\n",
    "\n",
    "d = d.drop_duplicates()\n",
    "d = d.fillna('')\n",
    "d"
   ]
  },
  {
   "cell_type": "markdown",
   "metadata": {},
   "source": [
    "#### Export Results\n",
    "Make sure to change the file name! It will overwrite any previous results you wrote before. The output file will be stored in the location of this notebook."
   ]
  },
  {
   "cell_type": "code",
   "execution_count": null,
   "metadata": {},
   "outputs": [],
   "source": [
    "#Write downstream orphans to list for multiple body IDs\n",
    "d.to_csv(\"INSERT FILE NAME.csv\", index = False)"
   ]
  }
 ],
 "metadata": {
  "kernelspec": {
   "display_name": "Python 3",
   "language": "python",
   "name": "python3"
  },
  "language_info": {
   "codemirror_mode": {
    "name": "ipython",
    "version": 3
   },
   "file_extension": ".py",
   "mimetype": "text/x-python",
   "name": "python",
   "nbconvert_exporter": "python",
   "pygments_lexer": "ipython3",
   "version": "3.7.6"
  }
 },
 "nbformat": 4,
 "nbformat_minor": 4
}
