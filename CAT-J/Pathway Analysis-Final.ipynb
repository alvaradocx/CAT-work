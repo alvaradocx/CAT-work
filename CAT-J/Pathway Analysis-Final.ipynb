{
 "cells": [
  {
   "cell_type": "markdown",
   "metadata": {},
   "source": [
    "# Pathway Analysis\n",
    "#### Chelsea Alvarado (https://github.com/alvaradocx)\n",
    "* You must change column names, values, etc to match your pathway you're looking at"
   ]
  },
  {
   "cell_type": "markdown",
   "metadata": {},
   "source": [
    "### Table of Contents\n",
    "\n",
    "* [1. Setup](#Setup)\n",
    "    * [1.1 .env Setup](#.env)\n",
    "* [2. One Hop Pathway](#OneHop)\n",
    "    * [2.1 Data Read in/Query](#DataRead11)\n",
    "    * [2.2 Create multi index dataframe](#multiindex)\n",
    "    * [2.3 Export Multi-Index df](#export1)\n",
    "    * [2.4 Creating Subsets of Main DataFrame](#subset)\n",
    "        * [2.4.1 Breaking Up Main DF into Smaller Subsets for all Relationships](#mainSubsets)\n",
    "        * [2.4.2 Multi-Index for Upstream c to a](#ctoa)\n",
    "        * [2.4.3 Export out](#export2)\n",
    "    * [2.5  Data Operations](#operations)\n",
    "        * [2.5.1 Calculate Downstream Neuron Counts](#dstrCount)\n",
    "            * [2.5.1.1 Export out](#export3)\n",
    "        * [2.5.2 Calculate Upstream Neuron Counts](#upstrCount) \n",
    "            * [2.5.2.1 Export out](#export4)\n",
    "        * [2.5.3 Interneuron Count](#interCount)\n",
    "            * [2.5.3.1 Method 1](#m1)\n",
    "            * [2.5.3.2 Method 2](#m2)\n",
    "        * [2.5.4 Calculate Combined Weights](#weights)\n",
    "* [3. Direct Pathway](#direct)\n",
    "    * [3.1 Data Readin/Query](#read2)\n",
    "    * [3.2 Visualization](#visual)\n",
    "        * [3.2.1 Heatmap by Body ID](#heat1)\n",
    "        * [3.2.2 Query by Type](#heat2)\n",
    "            * [3.2.2.1 Modify DataFrame for Heatmap](#mod)\n",
    "    "
   ]
  },
  {
   "cell_type": "markdown",
   "metadata": {},
   "source": [
    "## 1. Setup <a name=\"Setup\"></a>"
   ]
  },
  {
   "cell_type": "code",
   "execution_count": 1,
   "metadata": {},
   "outputs": [],
   "source": [
    "import pandas as pd\n",
    "from neuprint import Client, fetch_custom # used when running queries on neuprint"
   ]
  },
  {
   "cell_type": "markdown",
   "metadata": {},
   "source": [
    "### 1.1 .env file for authorization token (optional but recommended) <a name=\".env\"></a>"
   ]
  },
  {
   "cell_type": "markdown",
   "metadata": {},
   "source": [
    "Please reference this [Jupyter Notebook](https://github.com/alvaradocx/CAT-work/blob/main/General%20Scripts/environment_setup.ipynb) for directions on how to set and what an .env file is"
   ]
  },
  {
   "cell_type": "code",
   "execution_count": null,
   "metadata": {},
   "outputs": [],
   "source": [
    "# libraries for .env\n",
    "import dotenv\n",
    "import os\n",
    "\n",
    "# load in .env\n",
    "dotenv.load_dotenv()\n",
    "\n",
    "# declare token var\n",
    "token = os.getenv('authToken')"
   ]
  },
  {
   "cell_type": "markdown",
   "metadata": {},
   "source": [
    "## 2. One Hop Pathway <a name=\"OneHop\"></a>"
   ]
  },
  {
   "cell_type": "markdown",
   "metadata": {},
   "source": [
    "### Section 2.1 Data read in/Query <a name=\"DataRead1\"></a>"
   ]
  },
  {
   "cell_type": "markdown",
   "metadata": {},
   "source": [
    "#### Read in from existing CSV"
   ]
  },
  {
   "cell_type": "code",
   "execution_count": 2,
   "metadata": {},
   "outputs": [],
   "source": [
    "# read in data frame\n",
    "# main df for full file\n",
    "one_hop = pd.read_csv('TrueCX1Hop_6-22.csv')\n",
    "one_hop\n",
    "one_hop.columns = ['Non-oAL_ID','Non-oAL_Type','Weight1','Interneuron_ID','Interneuron_Type','Weight2','CX_ID','CX_Type']\n",
    "one_hop = one_hop.drop(['Non-oAL_Type','Interneuron_Type','CX_Type'], axis=1)\n",
    "\n",
    "# df with interneuron duplicates removed for a to b\n",
    "atob_unique = one_hop[['Non-oAL_ID','Weight1','Interneuron_ID']].drop_duplicates()"
   ]
  },
  {
   "cell_type": "markdown",
   "metadata": {},
   "source": [
    "#### Run query (only run if you don't have CSV file)"
   ]
  },
  {
   "cell_type": "code",
   "execution_count": null,
   "metadata": {},
   "outputs": [],
   "source": [
    "# uncomment if you are not using .env method\n",
    "# token = \"\"\n",
    "\n",
    "c = Client('neuprint-test.janelia.org', dataset='hemibrain', token = token, verify=True)\n",
    "\n",
    "starting_body_list = []\n",
    "\n",
    "def createQueryDataframe():\n",
    "    #basic one hop query from a starter list to a CX neuron. \n",
    "    query = fetch_custom(\"\"\"\\\n",
    "    WITH \"\"\" + str(starting_body_list) + \"\"\" AS TARGETS\n",
    "    MATCH (a:Neuron)-[w:ConnectsTo]->(b:Neuron)-[ww:ConnectsTo]->(c:Neuron)\n",
    "    WHERE a.bodyId IN TARGETS AND c.`CX` AND w.weight > 9 AND ww.weight > 9\n",
    "    RETURN a.bodyId, a.type, w.weight, b.bodyId, b.type, ww.weight, c.bodyId, c.type\"\"\")\n",
    "    return query\n",
    "\n",
    "one_hop = createQueryDataframe()"
   ]
  },
  {
   "cell_type": "code",
   "execution_count": null,
   "metadata": {},
   "outputs": [],
   "source": [
    "# format df\n",
    "one_hop.columns = ['Non-oAL_ID','Non-oAL_Type','Weight1','Interneuron_ID','Interneuron_Type','Weight2','CX_ID','CX_Type']\n",
    "one_hop = one_hop.drop(['Non-oAL_Type','Interneuron_Type','CX_Type'], axis=1)\n",
    "\n",
    "# df with interneuron duplicates removed for a to b\n",
    "atob_unique = one_hop[['Non-oAL_ID','Weight1','Interneuron_ID']].drop_duplicates()"
   ]
  },
  {
   "cell_type": "markdown",
   "metadata": {},
   "source": [
    "### Section 2.2 Create multi index dataframe <a name=\"multiindex\"></a>"
   ]
  },
  {
   "cell_type": "code",
   "execution_count": 3,
   "metadata": {},
   "outputs": [
    {
     "data": {
      "text/html": [
       "<div>\n",
       "<style scoped>\n",
       "    .dataframe tbody tr th:only-of-type {\n",
       "        vertical-align: middle;\n",
       "    }\n",
       "\n",
       "    .dataframe tbody tr th {\n",
       "        vertical-align: top;\n",
       "    }\n",
       "\n",
       "    .dataframe thead th {\n",
       "        text-align: right;\n",
       "    }\n",
       "</style>\n",
       "<table border=\"1\" class=\"dataframe\">\n",
       "  <thead>\n",
       "    <tr style=\"text-align: right;\">\n",
       "      <th></th>\n",
       "      <th></th>\n",
       "      <th>Weight1</th>\n",
       "      <th>Weight2</th>\n",
       "      <th>CX_ID</th>\n",
       "    </tr>\n",
       "    <tr>\n",
       "      <th>Non-oAL_ID</th>\n",
       "      <th>Interneuron_ID</th>\n",
       "      <th></th>\n",
       "      <th></th>\n",
       "      <th></th>\n",
       "    </tr>\n",
       "  </thead>\n",
       "  <tbody>\n",
       "    <tr>\n",
       "      <th rowspan=\"5\" valign=\"top\">603785283</th>\n",
       "      <th>758636869</th>\n",
       "      <td>17</td>\n",
       "      <td>12</td>\n",
       "      <td>789308735</td>\n",
       "    </tr>\n",
       "    <tr>\n",
       "      <th>480258208</th>\n",
       "      <td>10</td>\n",
       "      <td>19</td>\n",
       "      <td>1050935614</td>\n",
       "    </tr>\n",
       "    <tr>\n",
       "      <th>480258208</th>\n",
       "      <td>10</td>\n",
       "      <td>16</td>\n",
       "      <td>953414780</td>\n",
       "    </tr>\n",
       "    <tr>\n",
       "      <th>480258208</th>\n",
       "      <td>10</td>\n",
       "      <td>11</td>\n",
       "      <td>5813087837</td>\n",
       "    </tr>\n",
       "    <tr>\n",
       "      <th>358264919</th>\n",
       "      <td>15</td>\n",
       "      <td>12</td>\n",
       "      <td>922069357</td>\n",
       "    </tr>\n",
       "    <tr>\n",
       "      <th>...</th>\n",
       "      <th>...</th>\n",
       "      <td>...</td>\n",
       "      <td>...</td>\n",
       "      <td>...</td>\n",
       "    </tr>\n",
       "    <tr>\n",
       "      <th>1755556097</th>\n",
       "      <th>702364805</th>\n",
       "      <td>10</td>\n",
       "      <td>34</td>\n",
       "      <td>5813062858</td>\n",
       "    </tr>\n",
       "    <tr>\n",
       "      <th rowspan=\"4\" valign=\"top\">5813056072</th>\n",
       "      <th>702364805</th>\n",
       "      <td>23</td>\n",
       "      <td>18</td>\n",
       "      <td>513784136</td>\n",
       "    </tr>\n",
       "    <tr>\n",
       "      <th>702364805</th>\n",
       "      <td>23</td>\n",
       "      <td>132</td>\n",
       "      <td>5813047763</td>\n",
       "    </tr>\n",
       "    <tr>\n",
       "      <th>702364805</th>\n",
       "      <td>23</td>\n",
       "      <td>34</td>\n",
       "      <td>5813062858</td>\n",
       "    </tr>\n",
       "    <tr>\n",
       "      <th>1671608112</th>\n",
       "      <td>31</td>\n",
       "      <td>12</td>\n",
       "      <td>732034061</td>\n",
       "    </tr>\n",
       "  </tbody>\n",
       "</table>\n",
       "<p>236 rows × 3 columns</p>\n",
       "</div>"
      ],
      "text/plain": [
       "                           Weight1  Weight2       CX_ID\n",
       "Non-oAL_ID Interneuron_ID                              \n",
       "603785283  758636869            17       12   789308735\n",
       "           480258208            10       19  1050935614\n",
       "           480258208            10       16   953414780\n",
       "           480258208            10       11  5813087837\n",
       "           358264919            15       12   922069357\n",
       "...                            ...      ...         ...\n",
       "1755556097 702364805            10       34  5813062858\n",
       "5813056072 702364805            23       18   513784136\n",
       "           702364805            23      132  5813047763\n",
       "           702364805            23       34  5813062858\n",
       "           1671608112           31       12   732034061\n",
       "\n",
       "[236 rows x 3 columns]"
      ]
     },
     "execution_count": 3,
     "metadata": {},
     "output_type": "execute_result"
    }
   ],
   "source": [
    "# create multiindex of main df\n",
    "onehop_multi = one_hop.set_index(['Non-oAL_ID','Interneuron_ID'])\n",
    "onehop_multi"
   ]
  },
  {
   "cell_type": "markdown",
   "metadata": {},
   "source": [
    "#### Sub-Section 2.2.1 Export Multi-index DataFrame (optional) <a name=\"export1\"></a>"
   ]
  },
  {
   "cell_type": "code",
   "execution_count": 8,
   "metadata": {},
   "outputs": [],
   "source": [
    "onehop_multi.to_csv('FILE NAME.csv')"
   ]
  },
  {
   "cell_type": "markdown",
   "metadata": {},
   "source": [
    "### Section 2.4 Creating Subsets of Main DataFrame <a name=\"subset\"></a>"
   ]
  },
  {
   "cell_type": "markdown",
   "metadata": {},
   "source": [
    "#### Sub-Section 2.4.1 Break up main dataframe into smaller dataframes <a name=\"mainSubsets\"></a>\n",
    "* a->b->c\n",
    "* creates data frames for each chunk of one hop relationship (a to , b to c)\n",
    "* creates dataframes for other possible relationships ( c to a, b to a, c to b)"
   ]
  },
  {
   "cell_type": "code",
   "execution_count": 11,
   "metadata": {},
   "outputs": [],
   "source": [
    "# create smaller data frames\n",
    "# df for sensory to interneuron(a to b)\n",
    "atob = atob_unique[['Non-oAL_ID','Weight1','Interneuron_ID']]\n",
    "# multi index\n",
    "atob_multi = atob.set_index(['Non-oAL_ID','Interneuron_ID'])\n",
    "\n",
    "# df for interneuron to CX (b to c)\n",
    "btoc = one_hop[['Interneuron_ID','Weight2','CX_ID']].drop_duplicates()\n",
    "# multi index \n",
    "btoc_multi = btoc.set_index(['Interneuron_ID','CX_ID'])\n",
    "\n",
    "# df for interneurons (b to a)\n",
    "inter = one_hop[[\"Interneuron_ID\",\"Weight1\",\"Non-oAL_ID\"]].drop_duplicates()\n",
    "# multindex\n",
    "inter_multi = inter.set_index(['Interneuron_ID', 'Non-oAL_ID']).sort_values('Interneuron_ID')\n",
    "\n",
    "# df for Cx to inter(c to b)\n",
    "ctob = one_hop[['Interneuron_ID','Weight2','CX_ID']].drop_duplicates()\n",
    "# multi index \n",
    "ctob_multi =ctob.set_index(['CX_ID','Interneuron_ID'])\n",
    "\n",
    "# for cx to oal (c to a)\n",
    "ctoa =one_hop[['CX_ID', 'Weight2', 'Non-oAL_ID']].drop_duplicates()\n",
    "# multi index\n",
    "ctoa_multi = ctoa.set_index(['CX_ID','Non-oAL_ID']).sort_values('CX_ID')\n"
   ]
  },
  {
   "cell_type": "markdown",
   "metadata": {},
   "source": [
    "#### Sub-Section 2.4.2 Multi-index for upstream of c to a <a name=\"ctoa\"></a>\n",
    "i.e. how many starting bodies does the final neuron receive information from"
   ]
  },
  {
   "cell_type": "code",
   "execution_count": 10,
   "metadata": {},
   "outputs": [
    {
     "data": {
      "text/html": [
       "<div>\n",
       "<style scoped>\n",
       "    .dataframe tbody tr th:only-of-type {\n",
       "        vertical-align: middle;\n",
       "    }\n",
       "\n",
       "    .dataframe tbody tr th {\n",
       "        vertical-align: top;\n",
       "    }\n",
       "\n",
       "    .dataframe thead th {\n",
       "        text-align: right;\n",
       "    }\n",
       "</style>\n",
       "<table border=\"1\" class=\"dataframe\">\n",
       "  <thead>\n",
       "    <tr style=\"text-align: right;\">\n",
       "      <th></th>\n",
       "      <th></th>\n",
       "      <th>Weight2</th>\n",
       "    </tr>\n",
       "    <tr>\n",
       "      <th>CX_ID</th>\n",
       "      <th>Non-oAL_ID</th>\n",
       "      <th></th>\n",
       "    </tr>\n",
       "  </thead>\n",
       "  <tbody>\n",
       "    <tr>\n",
       "      <th>294450495</th>\n",
       "      <th>5813063239</th>\n",
       "      <td>18</td>\n",
       "    </tr>\n",
       "    <tr>\n",
       "      <th>294800293</th>\n",
       "      <th>1858901026</th>\n",
       "      <td>10</td>\n",
       "    </tr>\n",
       "    <tr>\n",
       "      <th>295116205</th>\n",
       "      <th>5813063239</th>\n",
       "      <td>17</td>\n",
       "    </tr>\n",
       "    <tr>\n",
       "      <th>295141570</th>\n",
       "      <th>5813063239</th>\n",
       "      <td>19</td>\n",
       "    </tr>\n",
       "    <tr>\n",
       "      <th>295819960</th>\n",
       "      <th>5813063239</th>\n",
       "      <td>24</td>\n",
       "    </tr>\n",
       "    <tr>\n",
       "      <th>...</th>\n",
       "      <th>...</th>\n",
       "      <td>...</td>\n",
       "    </tr>\n",
       "    <tr>\n",
       "      <th>5813078563</th>\n",
       "      <th>1944502935</th>\n",
       "      <td>33</td>\n",
       "    </tr>\n",
       "    <tr>\n",
       "      <th>5813081818</th>\n",
       "      <th>1858901026</th>\n",
       "      <td>11</td>\n",
       "    </tr>\n",
       "    <tr>\n",
       "      <th rowspan=\"3\" valign=\"top\">5813087837</th>\n",
       "      <th>1975878958</th>\n",
       "      <td>11</td>\n",
       "    </tr>\n",
       "    <tr>\n",
       "      <th>603785283</th>\n",
       "      <td>11</td>\n",
       "    </tr>\n",
       "    <tr>\n",
       "      <th>850717220</th>\n",
       "      <td>11</td>\n",
       "    </tr>\n",
       "  </tbody>\n",
       "</table>\n",
       "<p>236 rows × 1 columns</p>\n",
       "</div>"
      ],
      "text/plain": [
       "                       Weight2\n",
       "CX_ID      Non-oAL_ID         \n",
       "294450495  5813063239       18\n",
       "294800293  1858901026       10\n",
       "295116205  5813063239       17\n",
       "295141570  5813063239       19\n",
       "295819960  5813063239       24\n",
       "...                        ...\n",
       "5813078563 1944502935       33\n",
       "5813081818 1858901026       11\n",
       "5813087837 1975878958       11\n",
       "           603785283        11\n",
       "           850717220        11\n",
       "\n",
       "[236 rows x 1 columns]"
      ]
     },
     "execution_count": 10,
     "metadata": {},
     "output_type": "execute_result"
    }
   ],
   "source": [
    "# multiindex cx to non oal\n",
    "ctoa = one_hop[['CX_ID', 'Weight2', 'Non-oAL_ID']]\n",
    "\n",
    "reverse = ctoa.set_index(['CX_ID','Non-oAL_ID']).sort_values('CX_ID')\n",
    "reverse"
   ]
  },
  {
   "cell_type": "markdown",
   "metadata": {},
   "source": [
    "#### Sub-Section 2.4.3 Export out DataFrame  <a name=\"export2\"></a>"
   ]
  },
  {
   "cell_type": "code",
   "execution_count": null,
   "metadata": {},
   "outputs": [],
   "source": [
    "reverse.to_csv('FILE NAME.csv')"
   ]
  },
  {
   "cell_type": "markdown",
   "metadata": {},
   "source": [
    "### Section 2.5 Data Operations <a name=\"operations\"></a>\n",
    "####  Sub-Section 2.5.1 Calculate downstream neuron counts <a name=\"dstrCount\"></a>"
   ]
  },
  {
   "cell_type": "code",
   "execution_count": 12,
   "metadata": {},
   "outputs": [],
   "source": [
    "# calculate downstream neuron counts\n",
    "# sensory to inter count ie how many interneurons the sensory body synapses onto\n",
    "downstream_sense = atob.groupby(['Non-oAL_ID','Interneuron_ID']).count()\\\n",
    "       .reset_index().groupby('Non-oAL_ID')['Interneuron_ID'].nunique()\n",
    "\n",
    "# inter to CX count ie how many cx neurons the inter body synapses onto\n",
    "downstream_inter = btoc.groupby(['Interneuron_ID', 'CX_ID']).count()\\\n",
    "       .reset_index().groupby('Interneuron_ID')['CX_ID'].nunique()"
   ]
  },
  {
   "cell_type": "markdown",
   "metadata": {},
   "source": [
    "##### 2.5.1.1 Export out <a name = 'export3'></a>\n",
    "Make sure to change file name or you'll overwrite the existing file"
   ]
  },
  {
   "cell_type": "code",
   "execution_count": null,
   "metadata": {},
   "outputs": [],
   "source": [
    "# a to b downstream count\n",
    "downstream_sense.to_csv('FILE NAME.csv')\n",
    "\n",
    "# b to c downstream count\n",
    "downstream_inter.to_csv('FILE NAME.csv')"
   ]
  },
  {
   "cell_type": "markdown",
   "metadata": {},
   "source": [
    "#### Sub-Section 2.5.2 Calculate upstream neuron counts <a name = 'upstrCount'></a>"
   ]
  },
  {
   "cell_type": "code",
   "execution_count": 13,
   "metadata": {},
   "outputs": [],
   "source": [
    "# calculate upstream inter to sensory b to a; count how many upstream (a) neurons b receives information from\n",
    "upstream_inter = inter_multi.groupby(['Interneuron_ID', 'Non-oAL_ID']).count()\\\n",
    "        .reset_index().groupby('Interneuron_ID')['Non-oAL_ID'].nunique()\n",
    "\n",
    "# calculate upstream cx to inter c to b; count how many upstream (b) neurons c receives information from\n",
    "upstream_cx = ctob_multi.groupby(['CX_ID', 'Interneuron_ID']).count()\\\n",
    "        .reset_index().groupby('CX_ID')['Interneuron_ID'].nunique()\n",
    "\n",
    "# calculate upstream cx to inter c to a; count how many upstream (a) neurons c receives information from\n",
    "upstream_sense = ctoa_multi.groupby(['CX_ID', 'Non-oAL_ID']).count()\\\n",
    "        .reset_index().groupby('CX_ID')['Non-oAL_ID'].nunique()"
   ]
  },
  {
   "cell_type": "markdown",
   "metadata": {},
   "source": [
    "##### 2.5.2.1 Export out <a name = 'export4'> </a>\n",
    "Make sure to change file name or you'll overwrite the existing file"
   ]
  },
  {
   "cell_type": "code",
   "execution_count": null,
   "metadata": {},
   "outputs": [],
   "source": [
    "# b to a count\n",
    "upstream_inter.to_csv('FILE NAME.csv')\n",
    "\n",
    "# c to b count\n",
    "upstream_cx.to_csv('FILE NAME.csv')\n",
    "\n",
    "# c to a count\n",
    "upstream_sense.to_csv('FILE NAME.csv')"
   ]
  },
  {
   "cell_type": "markdown",
   "metadata": {},
   "source": [
    "#### Sub-Section 2.5.3 Interneuron count <a name = 'interCount'></a>\n",
    "* Keeping track of how many times an interneuron shows up in the one hop pathway relationship\n",
    "* two different methods you can use\n",
    "\n",
    "##### 2.5.3.1 Method 1 <a name = 'm1'></a>"
   ]
  },
  {
   "cell_type": "code",
   "execution_count": null,
   "metadata": {},
   "outputs": [],
   "source": [
    "# how many times an interneuron body is involved in a one hop pathway (a->b->c) not unique\n",
    "inter = dict()\n",
    "for i in range(0, len(one_hop['Interneuron_ID'])):\n",
    "    \n",
    "    if one_hop['Interneuron_ID'][i] not in inter: \n",
    "        \n",
    "        inter[one_hop['Interneuron_ID'][i]] = 1\n",
    "          \n",
    "    else:\n",
    "        inter[one_hop['Interneuron_ID'][i]] += 1\n",
    "\n",
    "inter"
   ]
  },
  {
   "cell_type": "markdown",
   "metadata": {},
   "source": [
    "##### 2.5.3.2 Method 2 <a name = 'm2'></a>"
   ]
  },
  {
   "cell_type": "code",
   "execution_count": null,
   "metadata": {},
   "outputs": [],
   "source": [
    "# how many times an interneuron body is involved in a one hop pathway (a->b->c) not unique\n",
    "counts = dict()\n",
    "for i in one_hop['Interneuron_ID']:\n",
    "    counts[i] = counts.get(i, 0) + 1\n",
    "    \n",
    "counts"
   ]
  },
  {
   "cell_type": "markdown",
   "metadata": {},
   "source": [
    "#### Sub-Section 2.5.4 Calculate the combined weights <a name = 'weights'></a>"
   ]
  },
  {
   "cell_type": "code",
   "execution_count": 15,
   "metadata": {},
   "outputs": [],
   "source": [
    "# sum(combined) downstream weights\n",
    "\n",
    "# from non-oAL to inter; \n",
    "sum_atob = atob_multi.sum(level = 'Non-oAL_ID').sort_values(by = 'Non-oAL_ID')\n",
    "\n",
    "# inter to nonoOAL\n",
    "sum_btoa = inter_multi.sum(level = \"Interneuron_ID\").sort_values(by = 'Interneuron_ID')\n",
    "\n",
    "# from inter to cx\n",
    "sum_btoc = btoc_multi.sum(level = \"Interneuron_ID\").sort_values(by = 'Interneuron_ID')\n",
    "\n",
    "# cx to inter\n",
    "sum_ctob = ctob_multi.sum(level = \"CX_ID\").sort_values(by = 'CX_ID')\n",
    "\n",
    "# cx to non-oal\n",
    "sum_ctoa = ctoa_multi.sum(level = \"CX_ID\").sort_values(by = 'CX_ID')"
   ]
  },
  {
   "cell_type": "markdown",
   "metadata": {},
   "source": [
    "## 3. Direct Relationship <a name = 'direct'></a>"
   ]
  },
  {
   "cell_type": "markdown",
   "metadata": {},
   "source": [
    "### Section 3.1 Read in CSV file/Query <a name = 'read2'></a>"
   ]
  },
  {
   "cell_type": "code",
   "execution_count": 313,
   "metadata": {},
   "outputs": [],
   "source": [
    "direct = pd.read_csv('direct final.csv')\n",
    "direct = direct.reset_index().groupby(['Non-oAL Sensory Neurons', 'True CX Neurons'])['c.weight'].aggregate('first').unstack().fillna(0).astype(int)"
   ]
  },
  {
   "cell_type": "markdown",
   "metadata": {},
   "source": [
    "#### Run query and create DF"
   ]
  },
  {
   "cell_type": "code",
   "execution_count": null,
   "metadata": {},
   "outputs": [],
   "source": [
    "# uncomment if you are not using .env method and/or you haven't previously established a connection with neuprint\n",
    "# token = \"\"\n",
    "\n",
    "\n",
    "# establishes connection with neuprint\n",
    "# c = Client('neuprint-test.janelia.org', dataset='hemibrain', token = token, verify=True)"
   ]
  },
  {
   "cell_type": "code",
   "execution_count": 3,
   "metadata": {},
   "outputs": [],
   "source": [
    "# starting body list\n",
    "body_list = [850717220,634759240,603785283,5813063239,1943812176,1881401277,1858901026,663787020,664814903,2069648663,1975187675,1944502935,1943811736,1727979406,1755556097,5813040515,1975878958,5813056072,1639243580,663432544,1639234609]\n",
    "def create_query_dataframe():\n",
    "    query=fetch_custom(\"\"\"\\\n",
    "    WITH \"\"\" + str(body_list) + \"\"\" AS TARGETS\n",
    "    MATCH (a:Neuron)-[c:ConnectsTo]->(b:Neuron)\n",
    "    WHERE a.bodyId IN TARGETS AND b.`CX` AND c.weight >= 10\n",
    "    RETURN a.bodyId AS SENSORY, a.type AS SENSORY_TYPE, b.bodyId AS True_CX, b.type AS CX_Type, c.weight AS WEIGHT\n",
    "    ORDER BY b.bodyId DESC\n",
    "    \"\"\") \n",
    "    return query\n",
    "\n",
    "# store the results as \"df_direct\"\n",
    "df_direct = create_query_dataframe()"
   ]
  },
  {
   "cell_type": "code",
   "execution_count": 4,
   "metadata": {},
   "outputs": [
    {
     "data": {
      "text/html": [
       "<div>\n",
       "<style scoped>\n",
       "    .dataframe tbody tr th:only-of-type {\n",
       "        vertical-align: middle;\n",
       "    }\n",
       "\n",
       "    .dataframe tbody tr th {\n",
       "        vertical-align: top;\n",
       "    }\n",
       "\n",
       "    .dataframe thead th {\n",
       "        text-align: right;\n",
       "    }\n",
       "</style>\n",
       "<table border=\"1\" class=\"dataframe\">\n",
       "  <thead>\n",
       "    <tr style=\"text-align: right;\">\n",
       "      <th></th>\n",
       "      <th>SENSORY</th>\n",
       "      <th>SENSORY_TYPE</th>\n",
       "      <th>True_CX</th>\n",
       "      <th>CX_Type</th>\n",
       "      <th>WEIGHT</th>\n",
       "    </tr>\n",
       "  </thead>\n",
       "  <tbody>\n",
       "    <tr>\n",
       "      <th>0</th>\n",
       "      <td>850717220</td>\n",
       "      <td>VP1l+VP3_ilPN</td>\n",
       "      <td>5813078563</td>\n",
       "      <td>FB2H_a</td>\n",
       "      <td>14</td>\n",
       "    </tr>\n",
       "    <tr>\n",
       "      <th>1</th>\n",
       "      <td>603785283</td>\n",
       "      <td>VP1l+VP3_ilPN</td>\n",
       "      <td>1255289329</td>\n",
       "      <td>FB2I_a</td>\n",
       "      <td>15</td>\n",
       "    </tr>\n",
       "    <tr>\n",
       "      <th>2</th>\n",
       "      <td>850717220</td>\n",
       "      <td>VP1l+VP3_ilPN</td>\n",
       "      <td>1255289329</td>\n",
       "      <td>FB2I_a</td>\n",
       "      <td>14</td>\n",
       "    </tr>\n",
       "    <tr>\n",
       "      <th>3</th>\n",
       "      <td>603785283</td>\n",
       "      <td>VP1l+VP3_ilPN</td>\n",
       "      <td>977995787</td>\n",
       "      <td>FB8B</td>\n",
       "      <td>11</td>\n",
       "    </tr>\n",
       "    <tr>\n",
       "      <th>4</th>\n",
       "      <td>603785283</td>\n",
       "      <td>VP1l+VP3_ilPN</td>\n",
       "      <td>949045811</td>\n",
       "      <td>FB8B</td>\n",
       "      <td>13</td>\n",
       "    </tr>\n",
       "    <tr>\n",
       "      <th>5</th>\n",
       "      <td>603785283</td>\n",
       "      <td>VP1l+VP3_ilPN</td>\n",
       "      <td>789308735</td>\n",
       "      <td>FB2I_b</td>\n",
       "      <td>15</td>\n",
       "    </tr>\n",
       "    <tr>\n",
       "      <th>6</th>\n",
       "      <td>850717220</td>\n",
       "      <td>VP1l+VP3_ilPN</td>\n",
       "      <td>789308735</td>\n",
       "      <td>FB2I_b</td>\n",
       "      <td>15</td>\n",
       "    </tr>\n",
       "    <tr>\n",
       "      <th>7</th>\n",
       "      <td>1858901026</td>\n",
       "      <td>VP2+_adPN</td>\n",
       "      <td>787227302</td>\n",
       "      <td>LHPV6f1</td>\n",
       "      <td>12</td>\n",
       "    </tr>\n",
       "    <tr>\n",
       "      <th>8</th>\n",
       "      <td>1975878958</td>\n",
       "      <td>VP2_adPN</td>\n",
       "      <td>787227302</td>\n",
       "      <td>LHPV6f1</td>\n",
       "      <td>21</td>\n",
       "    </tr>\n",
       "    <tr>\n",
       "      <th>9</th>\n",
       "      <td>663432544</td>\n",
       "      <td>VP3+_vPN</td>\n",
       "      <td>725498630</td>\n",
       "      <td>LHPV6f1</td>\n",
       "      <td>43</td>\n",
       "    </tr>\n",
       "    <tr>\n",
       "      <th>10</th>\n",
       "      <td>1858901026</td>\n",
       "      <td>VP2+_adPN</td>\n",
       "      <td>725498630</td>\n",
       "      <td>LHPV6f1</td>\n",
       "      <td>30</td>\n",
       "    </tr>\n",
       "    <tr>\n",
       "      <th>11</th>\n",
       "      <td>1975878958</td>\n",
       "      <td>VP2_adPN</td>\n",
       "      <td>725498630</td>\n",
       "      <td>LHPV6f1</td>\n",
       "      <td>23</td>\n",
       "    </tr>\n",
       "    <tr>\n",
       "      <th>12</th>\n",
       "      <td>663787020</td>\n",
       "      <td>VP1m+_lvPN</td>\n",
       "      <td>542751938</td>\n",
       "      <td>DNp44</td>\n",
       "      <td>11</td>\n",
       "    </tr>\n",
       "    <tr>\n",
       "      <th>13</th>\n",
       "      <td>5813063239</td>\n",
       "      <td>VP5+Z_adPN</td>\n",
       "      <td>542751938</td>\n",
       "      <td>DNp44</td>\n",
       "      <td>100</td>\n",
       "    </tr>\n",
       "    <tr>\n",
       "      <th>14</th>\n",
       "      <td>664814903</td>\n",
       "      <td>VP1m+_lvPN</td>\n",
       "      <td>542751938</td>\n",
       "      <td>DNp44</td>\n",
       "      <td>14</td>\n",
       "    </tr>\n",
       "    <tr>\n",
       "      <th>15</th>\n",
       "      <td>634759240</td>\n",
       "      <td>VP4_vPN</td>\n",
       "      <td>542751938</td>\n",
       "      <td>DNp44</td>\n",
       "      <td>130</td>\n",
       "    </tr>\n",
       "    <tr>\n",
       "      <th>16</th>\n",
       "      <td>1858901026</td>\n",
       "      <td>VP2+_adPN</td>\n",
       "      <td>513784136</td>\n",
       "      <td>FB1G</td>\n",
       "      <td>11</td>\n",
       "    </tr>\n",
       "    <tr>\n",
       "      <th>17</th>\n",
       "      <td>1727979406</td>\n",
       "      <td>VP1d+VP4_l2PN1</td>\n",
       "      <td>479935033</td>\n",
       "      <td>LHPV3c1</td>\n",
       "      <td>20</td>\n",
       "    </tr>\n",
       "  </tbody>\n",
       "</table>\n",
       "</div>"
      ],
      "text/plain": [
       "       SENSORY    SENSORY_TYPE     True_CX  CX_Type  WEIGHT\n",
       "0    850717220   VP1l+VP3_ilPN  5813078563   FB2H_a      14\n",
       "1    603785283   VP1l+VP3_ilPN  1255289329   FB2I_a      15\n",
       "2    850717220   VP1l+VP3_ilPN  1255289329   FB2I_a      14\n",
       "3    603785283   VP1l+VP3_ilPN   977995787     FB8B      11\n",
       "4    603785283   VP1l+VP3_ilPN   949045811     FB8B      13\n",
       "5    603785283   VP1l+VP3_ilPN   789308735   FB2I_b      15\n",
       "6    850717220   VP1l+VP3_ilPN   789308735   FB2I_b      15\n",
       "7   1858901026       VP2+_adPN   787227302  LHPV6f1      12\n",
       "8   1975878958        VP2_adPN   787227302  LHPV6f1      21\n",
       "9    663432544        VP3+_vPN   725498630  LHPV6f1      43\n",
       "10  1858901026       VP2+_adPN   725498630  LHPV6f1      30\n",
       "11  1975878958        VP2_adPN   725498630  LHPV6f1      23\n",
       "12   663787020      VP1m+_lvPN   542751938    DNp44      11\n",
       "13  5813063239      VP5+Z_adPN   542751938    DNp44     100\n",
       "14   664814903      VP1m+_lvPN   542751938    DNp44      14\n",
       "15   634759240         VP4_vPN   542751938    DNp44     130\n",
       "16  1858901026       VP2+_adPN   513784136     FB1G      11\n",
       "17  1727979406  VP1d+VP4_l2PN1   479935033  LHPV3c1      20"
      ]
     },
     "execution_count": 4,
     "metadata": {},
     "output_type": "execute_result"
    }
   ],
   "source": [
    "# main df\n",
    "df_direct"
   ]
  },
  {
   "cell_type": "code",
   "execution_count": 5,
   "metadata": {},
   "outputs": [],
   "source": [
    "df_direct_heat = df_direct.reset_index().groupby(['SENSORY', 'True_CX'])['WEIGHT'].aggregate('first').unstack().fillna(0).astype(int)"
   ]
  },
  {
   "cell_type": "code",
   "execution_count": 6,
   "metadata": {},
   "outputs": [
    {
     "data": {
      "text/html": [
       "<div>\n",
       "<style scoped>\n",
       "    .dataframe tbody tr th:only-of-type {\n",
       "        vertical-align: middle;\n",
       "    }\n",
       "\n",
       "    .dataframe tbody tr th {\n",
       "        vertical-align: top;\n",
       "    }\n",
       "\n",
       "    .dataframe thead th {\n",
       "        text-align: right;\n",
       "    }\n",
       "</style>\n",
       "<table border=\"1\" class=\"dataframe\">\n",
       "  <thead>\n",
       "    <tr style=\"text-align: right;\">\n",
       "      <th>True_CX</th>\n",
       "      <th>479935033</th>\n",
       "      <th>513784136</th>\n",
       "      <th>542751938</th>\n",
       "      <th>725498630</th>\n",
       "      <th>787227302</th>\n",
       "      <th>789308735</th>\n",
       "      <th>949045811</th>\n",
       "      <th>977995787</th>\n",
       "      <th>1255289329</th>\n",
       "      <th>5813078563</th>\n",
       "    </tr>\n",
       "    <tr>\n",
       "      <th>SENSORY</th>\n",
       "      <th></th>\n",
       "      <th></th>\n",
       "      <th></th>\n",
       "      <th></th>\n",
       "      <th></th>\n",
       "      <th></th>\n",
       "      <th></th>\n",
       "      <th></th>\n",
       "      <th></th>\n",
       "      <th></th>\n",
       "    </tr>\n",
       "  </thead>\n",
       "  <tbody>\n",
       "    <tr>\n",
       "      <th>603785283</th>\n",
       "      <td>0</td>\n",
       "      <td>0</td>\n",
       "      <td>0</td>\n",
       "      <td>0</td>\n",
       "      <td>0</td>\n",
       "      <td>15</td>\n",
       "      <td>13</td>\n",
       "      <td>11</td>\n",
       "      <td>15</td>\n",
       "      <td>0</td>\n",
       "    </tr>\n",
       "    <tr>\n",
       "      <th>634759240</th>\n",
       "      <td>0</td>\n",
       "      <td>0</td>\n",
       "      <td>130</td>\n",
       "      <td>0</td>\n",
       "      <td>0</td>\n",
       "      <td>0</td>\n",
       "      <td>0</td>\n",
       "      <td>0</td>\n",
       "      <td>0</td>\n",
       "      <td>0</td>\n",
       "    </tr>\n",
       "    <tr>\n",
       "      <th>663432544</th>\n",
       "      <td>0</td>\n",
       "      <td>0</td>\n",
       "      <td>0</td>\n",
       "      <td>43</td>\n",
       "      <td>0</td>\n",
       "      <td>0</td>\n",
       "      <td>0</td>\n",
       "      <td>0</td>\n",
       "      <td>0</td>\n",
       "      <td>0</td>\n",
       "    </tr>\n",
       "    <tr>\n",
       "      <th>663787020</th>\n",
       "      <td>0</td>\n",
       "      <td>0</td>\n",
       "      <td>11</td>\n",
       "      <td>0</td>\n",
       "      <td>0</td>\n",
       "      <td>0</td>\n",
       "      <td>0</td>\n",
       "      <td>0</td>\n",
       "      <td>0</td>\n",
       "      <td>0</td>\n",
       "    </tr>\n",
       "    <tr>\n",
       "      <th>664814903</th>\n",
       "      <td>0</td>\n",
       "      <td>0</td>\n",
       "      <td>14</td>\n",
       "      <td>0</td>\n",
       "      <td>0</td>\n",
       "      <td>0</td>\n",
       "      <td>0</td>\n",
       "      <td>0</td>\n",
       "      <td>0</td>\n",
       "      <td>0</td>\n",
       "    </tr>\n",
       "    <tr>\n",
       "      <th>850717220</th>\n",
       "      <td>0</td>\n",
       "      <td>0</td>\n",
       "      <td>0</td>\n",
       "      <td>0</td>\n",
       "      <td>0</td>\n",
       "      <td>15</td>\n",
       "      <td>0</td>\n",
       "      <td>0</td>\n",
       "      <td>14</td>\n",
       "      <td>14</td>\n",
       "    </tr>\n",
       "    <tr>\n",
       "      <th>1727979406</th>\n",
       "      <td>20</td>\n",
       "      <td>0</td>\n",
       "      <td>0</td>\n",
       "      <td>0</td>\n",
       "      <td>0</td>\n",
       "      <td>0</td>\n",
       "      <td>0</td>\n",
       "      <td>0</td>\n",
       "      <td>0</td>\n",
       "      <td>0</td>\n",
       "    </tr>\n",
       "    <tr>\n",
       "      <th>1858901026</th>\n",
       "      <td>0</td>\n",
       "      <td>11</td>\n",
       "      <td>0</td>\n",
       "      <td>30</td>\n",
       "      <td>12</td>\n",
       "      <td>0</td>\n",
       "      <td>0</td>\n",
       "      <td>0</td>\n",
       "      <td>0</td>\n",
       "      <td>0</td>\n",
       "    </tr>\n",
       "    <tr>\n",
       "      <th>1975878958</th>\n",
       "      <td>0</td>\n",
       "      <td>0</td>\n",
       "      <td>0</td>\n",
       "      <td>23</td>\n",
       "      <td>21</td>\n",
       "      <td>0</td>\n",
       "      <td>0</td>\n",
       "      <td>0</td>\n",
       "      <td>0</td>\n",
       "      <td>0</td>\n",
       "    </tr>\n",
       "    <tr>\n",
       "      <th>5813063239</th>\n",
       "      <td>0</td>\n",
       "      <td>0</td>\n",
       "      <td>100</td>\n",
       "      <td>0</td>\n",
       "      <td>0</td>\n",
       "      <td>0</td>\n",
       "      <td>0</td>\n",
       "      <td>0</td>\n",
       "      <td>0</td>\n",
       "      <td>0</td>\n",
       "    </tr>\n",
       "  </tbody>\n",
       "</table>\n",
       "</div>"
      ],
      "text/plain": [
       "True_CX     479935033   513784136   542751938   725498630   787227302   \\\n",
       "SENSORY                                                                  \n",
       "603785283            0           0           0           0           0   \n",
       "634759240            0           0         130           0           0   \n",
       "663432544            0           0           0          43           0   \n",
       "663787020            0           0          11           0           0   \n",
       "664814903            0           0          14           0           0   \n",
       "850717220            0           0           0           0           0   \n",
       "1727979406          20           0           0           0           0   \n",
       "1858901026           0          11           0          30          12   \n",
       "1975878958           0           0           0          23          21   \n",
       "5813063239           0           0         100           0           0   \n",
       "\n",
       "True_CX     789308735   949045811   977995787   1255289329  5813078563  \n",
       "SENSORY                                                                 \n",
       "603785283           15          13          11          15           0  \n",
       "634759240            0           0           0           0           0  \n",
       "663432544            0           0           0           0           0  \n",
       "663787020            0           0           0           0           0  \n",
       "664814903            0           0           0           0           0  \n",
       "850717220           15           0           0          14          14  \n",
       "1727979406           0           0           0           0           0  \n",
       "1858901026           0           0           0           0           0  \n",
       "1975878958           0           0           0           0           0  \n",
       "5813063239           0           0           0           0           0  "
      ]
     },
     "execution_count": 6,
     "metadata": {},
     "output_type": "execute_result"
    }
   ],
   "source": [
    "df_direct_heat"
   ]
  },
  {
   "cell_type": "markdown",
   "metadata": {},
   "source": [
    "### Section 3.2 Visualization (Heatmap) <a name = 'visual'></a>\n",
    "\n",
    "#### Sub-Section 3.2.1 Heatmap by Body ID <a name = 'heat1'></a>"
   ]
  },
  {
   "cell_type": "code",
   "execution_count": 41,
   "metadata": {},
   "outputs": [
    {
     "data": {
      "image/png": "[encoded data removed]",
      "text/plain": [
       "<Figure size 432x288 with 2 Axes>"
      ]
     },
     "metadata": {
      "needs_background": "light"
     },
     "output_type": "display_data"
    }
   ],
   "source": [
    "import matplotlib.pyplot as plt\n",
    "import seaborn as sns\n",
    "\n",
    "# color blind friendly colormap (not a gradient)\n",
    "CB_color_cycle = ['#377eb8', '#ff7f00', '#4daf4a',\n",
    "                  '#f781bf', '#a65628', '#984ea3',\n",
    "                  '#999999', '#e41a1c', '#dede00']\n",
    "# by body id\n",
    "heat = sns.heatmap(df_direct_heat, annot = True, fmt='d', cmap = CB_color_cycle) #cmap param allows you to change color palette/gradient\n",
    "plt.show()"
   ]
  },
  {
   "cell_type": "code",
   "execution_count": 42,
   "metadata": {},
   "outputs": [
    {
     "data": {
      "image/png": "[encoded data removed]",
      "text/plain": [
       "<Figure size 432x288 with 2 Axes>"
      ]
     },
     "metadata": {
      "needs_background": "light"
     },
     "output_type": "display_data"
    }
   ],
   "source": [
    "# no colorblind palette\n",
    "heat = sns.heatmap(df_direct_heat, annot = True, fmt='d')\n",
    "plt.show()"
   ]
  },
  {
   "cell_type": "markdown",
   "metadata": {},
   "source": [
    "#### Sub-Section 3.2.2 Query by Type or Read in <a name = 'heat2'></a>"
   ]
  },
  {
   "cell_type": "code",
   "execution_count": 25,
   "metadata": {},
   "outputs": [],
   "source": [
    "def create_query_dataframe_type():\n",
    "    query=fetch_custom(\"\"\"\\\n",
    "    WITH \"\"\" + str(body_list) + \"\"\" AS TARGETS\n",
    "    MATCH (a:Neuron)-[c:ConnectsTo]->(b:Neuron)\n",
    "    WHERE a.bodyId IN TARGETS AND b.`CX` AND c.weight >= 10\n",
    "    RETURN a.type AS SENSORY_TYPE, b.type AS CX_Type, SUM(c.weight) AS SUM_WEIGHT\n",
    "    \"\"\") \n",
    "    return query\n",
    "\n",
    "df_direct_type = create_query_dataframe_type()"
   ]
  },
  {
   "cell_type": "markdown",
   "metadata": {},
   "source": [
    "#### Read in CSV"
   ]
  },
  {
   "cell_type": "code",
   "execution_count": 27,
   "metadata": {},
   "outputs": [],
   "source": [
    "# by type \n",
    "direct_type_csv = pd.read_csv(r\"C:\\Users\\17039\\Documents\\GitHub\\CAT-Connectome\\Lab Projects\\Jayaraman\\python\\Output files for cat-j python\\Direct Final Type.csv\")"
   ]
  },
  {
   "cell_type": "markdown",
   "metadata": {},
   "source": [
    "#### 3.2.2.1 Modify dataframe for heatmap <a name = 'mod'></a>\n",
    "##### Query"
   ]
  },
  {
   "cell_type": "code",
   "execution_count": 32,
   "metadata": {},
   "outputs": [],
   "source": [
    "# using query DF\n",
    "direct_query = df_direct_type.reset_index().groupby(['SENSORY_TYPE', 'CX_Type'])['SUM_WEIGHT'].aggregate('first').unstack().fillna(0).astype(int)"
   ]
  },
  {
   "cell_type": "code",
   "execution_count": 35,
   "metadata": {},
   "outputs": [
    {
     "data": {
      "image/png": "[encoded data removed]",
      "text/plain": [
       "<Figure size 432x288 with 2 Axes>"
      ]
     },
     "metadata": {
      "needs_background": "light"
     },
     "output_type": "display_data"
    }
   ],
   "source": [
    "heat = sns.heatmap(direct_query,annot = True, fmt='d')\n",
    "plt.show()"
   ]
  },
  {
   "cell_type": "markdown",
   "metadata": {},
   "source": [
    "##### Read In"
   ]
  },
  {
   "cell_type": "code",
   "execution_count": 30,
   "metadata": {},
   "outputs": [],
   "source": [
    "# CSV read in\n",
    "direct_csv = direct_type_csv.reset_index().groupby(['Sensory Type', 'CX Type'])['SUM_WEIGHT'].aggregate('first').unstack().fillna(0).astype(int)"
   ]
  },
  {
   "cell_type": "code",
   "execution_count": 40,
   "metadata": {},
   "outputs": [
    {
     "data": {
      "image/png": "[encoded data removed]",
      "text/plain": [
       "<Figure size 432x288 with 2 Axes>"
      ]
     },
     "metadata": {
      "needs_background": "light"
     },
     "output_type": "display_data"
    }
   ],
   "source": [
    "heat = sns.heatmap(direct_csv,annot = True, fmt='d')\n",
    "plt.show()"
   ]
  }
 ],
 "metadata": {
  "kernelspec": {
   "display_name": "Python 3",
   "language": "python",
   "name": "python3"
  },
  "language_info": {
   "codemirror_mode": {
    "name": "ipython",
    "version": 3
   },
   "file_extension": ".py",
   "mimetype": "text/x-python",
   "name": "python",
   "nbconvert_exporter": "python",
   "pygments_lexer": "ipython3",
   "version": "3.7.6"
  }
 },
 "nbformat": 4,
 "nbformat_minor": 4
}
