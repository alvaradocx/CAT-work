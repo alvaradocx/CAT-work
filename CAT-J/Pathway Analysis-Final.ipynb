{
 "cells": [
  {
   "cell_type": "markdown",
   "metadata": {},
   "source": [
    "# Pathway Analysis\n",
    "#### Chelsea Alvarado (https://github.com/alvaradocx)\n",
    "* You must change column names, values, etc to match your pathway you're looking at"
   ]
  },
  {
   "cell_type": "markdown",
   "metadata": {},
   "source": [
    "### Table of Contents\n",
    "\n",
    "* [1. Setup](#Setup)\n",
    "    * [1.1 .env Setup](#.env)\n",
    "* [2. One Hop Pathway](#OneHop)\n",
    "    * [2.1 Data Read in/Query](#DataRead11)\n",
    "    * [2.2 Create multi index dataframe](#multiindex)\n",
    "    * [2.3 Export Multi-Index df](#export1)\n",
    "    * [2.4 Creating Subsets of Main DataFrame](#subset)\n",
    "        * [2.4.1 Breaking Up Main DF into Smaller Subsets for all Relationships](#mainSubsets)\n",
    "        * [2.4.2 Multi-Index for Upstream c to a](#ctoa)\n",
    "        * [2.4.3 Export out](#export2)\n",
    "    * [2.5  Data Operations](#operations)\n",
    "        * [2.5.1 Calculate Downstream Neuron Counts](#dstrCount)\n",
    "            * [2.5.1.1 Export out](#export3)\n",
    "        * [2.5.2 Calculate Upstream Neuron Counts](#upstrCount) \n",
    "            * [2.5.2.1 Export out](#export4)\n",
    "        * [2.5.3 Interneuron Count](#interCount)\n",
    "            * [2.5.3.1 Method 1](#m1)\n",
    "            * [2.5.3.2 Method 2](#m2)\n",
    "        * [2.5.4 Calculate Combined Weights](#weights)\n",
    "* [3. Direct Pathway](#direct)\n",
    "    * [3.1 Data Readin/Query](#read2)\n",
    "    * [3.2 Visualization](#visual)\n",
    "        * [3.2.1 Heatmap by Body ID](#heat1)\n",
    "        * [3.2.2 Query by Type](#heat2)\n",
    "            * [3.2.2.1 Modify DataFrame for Heatmap](#mod)\n",
    "    "
   ]
  },
  {
   "cell_type": "markdown",
   "metadata": {},
   "source": [
    "## 1. Setup <a name=\"Setup\"></a>"
   ]
  },
  {
   "cell_type": "code",
   "execution_count": null,
   "metadata": {},
   "outputs": [],
   "source": [
    "import pandas as pd\n",
    "from neuprint import Client, fetch_custom # used when running queries on neuprint"
   ]
  },
  {
   "cell_type": "markdown",
   "metadata": {},
   "source": [
    "### 1.1 .env file for authorization token (optional but recommended) <a name=\".env\"></a>"
   ]
  },
  {
   "cell_type": "markdown",
   "metadata": {},
   "source": [
    "Please reference this [Jupyter Notebook](https://github.com/alvaradocx/CAT-work/blob/main/General%20Scripts/environment_setup.ipynb) for directions on how to set and what an .env file is"
   ]
  },
  {
   "cell_type": "code",
   "execution_count": null,
   "metadata": {},
   "outputs": [],
   "source": [
    "# libraries for .env\n",
    "import dotenv\n",
    "import os\n",
    "\n",
    "# load in .env\n",
    "dotenv.load_dotenv()\n",
    "\n",
    "# declare token var\n",
    "token = os.getenv('authToken')"
   ]
  },
  {
   "cell_type": "markdown",
   "metadata": {},
   "source": [
    "## 2. One Hop Pathway <a name=\"OneHop\"></a>"
   ]
  },
  {
   "cell_type": "markdown",
   "metadata": {},
   "source": [
    "### Section 2.1 Data read in/Query <a name=\"DataRead1\"></a>"
   ]
  },
  {
   "cell_type": "markdown",
   "metadata": {},
   "source": [
    "#### Read in from existing CSV"
   ]
  },
  {
   "cell_type": "code",
   "execution_count": null,
   "metadata": {},
   "outputs": [],
   "source": [
    "# read in data frame\n",
    "# main df for full file\n",
    "one_hop = pd.read_csv('')\n",
    "one_hop\n",
    "one_hop.columns = ['Non-oAL_ID','Non-oAL_Type','Weight1','Interneuron_ID','Interneuron_Type','Weight2','CX_ID','CX_Type']\n",
    "one_hop = one_hop.drop(['Non-oAL_Type','Interneuron_Type','CX_Type'], axis=1)\n",
    "\n",
    "# df with interneuron duplicates removed for a to b\n",
    "atob_unique = one_hop[['Non-oAL_ID','Weight1','Interneuron_ID']].drop_duplicates()"
   ]
  },
  {
   "cell_type": "markdown",
   "metadata": {},
   "source": [
    "#### Run query (only run if you don't have CSV file)"
   ]
  },
  {
   "cell_type": "code",
   "execution_count": null,
   "metadata": {},
   "outputs": [],
   "source": [
    "# uncomment if you are not using .env method\n",
    "# token = \"\"\n",
    "\n",
    "c = Client('neuprint-test.janelia.org', dataset='hemibrain', token = token, verify=True)\n",
    "\n",
    "starting_body_list = []\n",
    "\n",
    "def createQueryDataframe():\n",
    "    #basic one hop query from a starter list to a CX neuron. \n",
    "    query = fetch_custom(\"\"\"\\\n",
    "    WITH \"\"\" + str(starting_body_list) + \"\"\" AS TARGETS\n",
    "    MATCH (a:Neuron)-[w:ConnectsTo]->(b:Neuron)-[ww:ConnectsTo]->(c:Neuron)\n",
    "    WHERE a.bodyId IN TARGETS AND c.`CX` AND w.weight > 9 AND ww.weight > 9\n",
    "    RETURN a.bodyId, a.type, w.weight, b.bodyId, b.type, ww.weight, c.bodyId, c.type\"\"\")\n",
    "    return query\n",
    "\n",
    "one_hop = createQueryDataframe()"
   ]
  },
  {
   "cell_type": "code",
   "execution_count": null,
   "metadata": {},
   "outputs": [],
   "source": [
    "# format df\n",
    "one_hop.columns = ['Non-oAL_ID','Non-oAL_Type','Weight1','Interneuron_ID','Interneuron_Type','Weight2','CX_ID','CX_Type']\n",
    "one_hop = one_hop.drop(['Non-oAL_Type','Interneuron_Type','CX_Type'], axis=1)\n",
    "\n",
    "# df with interneuron duplicates removed for a to b\n",
    "atob_unique = one_hop[['Non-oAL_ID','Weight1','Interneuron_ID']].drop_duplicates()"
   ]
  },
  {
   "cell_type": "markdown",
   "metadata": {},
   "source": [
    "### Section 2.2 Create multi index dataframe <a name=\"multiindex\"></a>"
   ]
  },
  {
   "cell_type": "code",
   "execution_count": null,
   "metadata": {},
   "outputs": [],
   "source": [
    "# create multiindex of main df\n",
    "onehop_multi = one_hop.set_index(['Non-oAL_ID','Interneuron_ID'])\n",
    "onehop_multi"
   ]
  },
  {
   "cell_type": "markdown",
   "metadata": {},
   "source": [
    "#### Sub-Section 2.2.1 Export Multi-index DataFrame (optional) <a name=\"export1\"></a>"
   ]
  },
  {
   "cell_type": "code",
   "execution_count": null,
   "metadata": {},
   "outputs": [],
   "source": [
    "onehop_multi.to_csv('FILE NAME.csv')"
   ]
  },
  {
   "cell_type": "markdown",
   "metadata": {},
   "source": [
    "### Section 2.4 Creating Subsets of Main DataFrame <a name=\"subset\"></a>"
   ]
  },
  {
   "cell_type": "markdown",
   "metadata": {},
   "source": [
    "#### Sub-Section 2.4.1 Break up main dataframe into smaller dataframes <a name=\"mainSubsets\"></a>\n",
    "* a->b->c\n",
    "* creates data frames for each chunk of one hop relationship (a to , b to c)\n",
    "* creates dataframes for other possible relationships ( c to a, b to a, c to b)"
   ]
  },
  {
   "cell_type": "code",
   "execution_count": null,
   "metadata": {},
   "outputs": [],
   "source": [
    "# create smaller data frames\n",
    "# df for sensory to interneuron(a to b)\n",
    "atob = atob_unique[['Non-oAL_ID','Weight1','Interneuron_ID']]\n",
    "# multi index\n",
    "atob_multi = atob.set_index(['Non-oAL_ID','Interneuron_ID'])\n",
    "\n",
    "# df for interneuron to CX (b to c)\n",
    "btoc = one_hop[['Interneuron_ID','Weight2','CX_ID']].drop_duplicates()\n",
    "# multi index \n",
    "btoc_multi = btoc.set_index(['Interneuron_ID','CX_ID'])\n",
    "\n",
    "# df for interneurons (b to a)\n",
    "inter = one_hop[[\"Interneuron_ID\",\"Weight1\",\"Non-oAL_ID\"]].drop_duplicates()\n",
    "# multindex\n",
    "inter_multi = inter.set_index(['Interneuron_ID', 'Non-oAL_ID']).sort_values('Interneuron_ID')\n",
    "\n",
    "# df for Cx to inter(c to b)\n",
    "ctob = one_hop[['Interneuron_ID','Weight2','CX_ID']].drop_duplicates()\n",
    "# multi index \n",
    "ctob_multi =ctob.set_index(['CX_ID','Interneuron_ID'])\n",
    "\n",
    "# for cx to oal (c to a)\n",
    "ctoa =one_hop[['CX_ID', 'Weight2', 'Non-oAL_ID']].drop_duplicates()\n",
    "# multi index\n",
    "ctoa_multi = ctoa.set_index(['CX_ID','Non-oAL_ID']).sort_values('CX_ID')\n"
   ]
  },
  {
   "cell_type": "markdown",
   "metadata": {},
   "source": [
    "#### Sub-Section 2.4.2 Multi-index for upstream of c to a <a name=\"ctoa\"></a>\n",
    "i.e. how many starting bodies does the final neuron receive information from"
   ]
  },
  {
   "cell_type": "code",
   "execution_count": null,
   "metadata": {},
   "outputs": [],
   "source": [
    "# multiindex cx to non oal\n",
    "ctoa = one_hop[['CX_ID', 'Weight2', 'Non-oAL_ID']]\n",
    "\n",
    "reverse = ctoa.set_index(['CX_ID','Non-oAL_ID']).sort_values('CX_ID')\n",
    "reverse"
   ]
  },
  {
   "cell_type": "markdown",
   "metadata": {},
   "source": [
    "#### Sub-Section 2.4.3 Export out DataFrame  <a name=\"export2\"></a>"
   ]
  },
  {
   "cell_type": "code",
   "execution_count": null,
   "metadata": {},
   "outputs": [],
   "source": [
    "reverse.to_csv('FILE NAME.csv')"
   ]
  },
  {
   "cell_type": "markdown",
   "metadata": {},
   "source": [
    "### Section 2.5 Data Operations <a name=\"operations\"></a>\n",
    "####  Sub-Section 2.5.1 Calculate downstream neuron counts <a name=\"dstrCount\"></a>"
   ]
  },
  {
   "cell_type": "code",
   "execution_count": null,
   "metadata": {},
   "outputs": [],
   "source": [
    "# calculate downstream neuron counts\n",
    "# sensory to inter count ie how many interneurons the sensory body synapses onto\n",
    "downstream_sense = atob.groupby(['Non-oAL_ID','Interneuron_ID']).count()\\\n",
    "       .reset_index().groupby('Non-oAL_ID')['Interneuron_ID'].nunique()\n",
    "\n",
    "# inter to CX count ie how many cx neurons the inter body synapses onto\n",
    "downstream_inter = btoc.groupby(['Interneuron_ID', 'CX_ID']).count()\\\n",
    "       .reset_index().groupby('Interneuron_ID')['CX_ID'].nunique()"
   ]
  },
  {
   "cell_type": "markdown",
   "metadata": {},
   "source": [
    "##### 2.5.1.1 Export out <a name = 'export3'></a>\n",
    "Make sure to change file name or you'll overwrite the existing file"
   ]
  },
  {
   "cell_type": "code",
   "execution_count": null,
   "metadata": {},
   "outputs": [],
   "source": [
    "# a to b downstream count\n",
    "downstream_sense.to_csv('FILE NAME.csv')\n",
    "\n",
    "# b to c downstream count\n",
    "downstream_inter.to_csv('FILE NAME.csv')"
   ]
  },
  {
   "cell_type": "markdown",
   "metadata": {},
   "source": [
    "#### Sub-Section 2.5.2 Calculate upstream neuron counts <a name = 'upstrCount'></a>"
   ]
  },
  {
   "cell_type": "code",
   "execution_count": null,
   "metadata": {},
   "outputs": [],
   "source": [
    "# calculate upstream inter to sensory b to a; count how many upstream (a) neurons b receives information from\n",
    "upstream_inter = inter_multi.groupby(['Interneuron_ID', 'Non-oAL_ID']).count()\\\n",
    "        .reset_index().groupby('Interneuron_ID')['Non-oAL_ID'].nunique()\n",
    "\n",
    "# calculate upstream cx to inter c to b; count how many upstream (b) neurons c receives information from\n",
    "upstream_cx = ctob_multi.groupby(['CX_ID', 'Interneuron_ID']).count()\\\n",
    "        .reset_index().groupby('CX_ID')['Interneuron_ID'].nunique()\n",
    "\n",
    "# calculate upstream cx to inter c to a; count how many upstream (a) neurons c receives information from\n",
    "upstream_sense = ctoa_multi.groupby(['CX_ID', 'Non-oAL_ID']).count()\\\n",
    "        .reset_index().groupby('CX_ID')['Non-oAL_ID'].nunique()"
   ]
  },
  {
   "cell_type": "markdown",
   "metadata": {},
   "source": [
    "##### 2.5.2.1 Export out <a name = 'export4'> </a>\n",
    "Make sure to change file name or you'll overwrite the existing file"
   ]
  },
  {
   "cell_type": "code",
   "execution_count": null,
   "metadata": {},
   "outputs": [],
   "source": [
    "# b to a count\n",
    "upstream_inter.to_csv('FILE NAME.csv')\n",
    "\n",
    "# c to b count\n",
    "upstream_cx.to_csv('FILE NAME.csv')\n",
    "\n",
    "# c to a count\n",
    "upstream_sense.to_csv('FILE NAME.csv')"
   ]
  },
  {
   "cell_type": "markdown",
   "metadata": {},
   "source": [
    "#### Sub-Section 2.5.3 Interneuron count <a name = 'interCount'></a>\n",
    "* Keeping track of how many times an interneuron shows up in the one hop pathway relationship\n",
    "* two different methods you can use\n",
    "\n",
    "##### 2.5.3.1 Method 1 <a name = 'm1'></a>"
   ]
  },
  {
   "cell_type": "code",
   "execution_count": null,
   "metadata": {},
   "outputs": [],
   "source": [
    "# how many times an interneuron body is involved in a one hop pathway (a->b->c) not unique\n",
    "inter = dict()\n",
    "for i in range(0, len(one_hop['Interneuron_ID'])):\n",
    "    \n",
    "    if one_hop['Interneuron_ID'][i] not in inter: \n",
    "        \n",
    "        inter[one_hop['Interneuron_ID'][i]] = 1\n",
    "          \n",
    "    else:\n",
    "        inter[one_hop['Interneuron_ID'][i]] += 1\n",
    "\n",
    "inter"
   ]
  },
  {
   "cell_type": "markdown",
   "metadata": {},
   "source": [
    "##### 2.5.3.2 Method 2 <a name = 'm2'></a>"
   ]
  },
  {
   "cell_type": "code",
   "execution_count": null,
   "metadata": {},
   "outputs": [],
   "source": [
    "# how many times an interneuron body is involved in a one hop pathway (a->b->c) not unique\n",
    "counts = dict()\n",
    "for i in one_hop['Interneuron_ID']:\n",
    "    counts[i] = counts.get(i, 0) + 1\n",
    "    \n",
    "counts"
   ]
  },
  {
   "cell_type": "markdown",
   "metadata": {},
   "source": [
    "#### Sub-Section 2.5.4 Calculate the combined weights <a name = 'weights'></a>"
   ]
  },
  {
   "cell_type": "code",
   "execution_count": null,
   "metadata": {},
   "outputs": [],
   "source": [
    "# sum(combined) downstream weights\n",
    "\n",
    "# from non-oAL to inter; \n",
    "sum_atob = atob_multi.sum(level = 'Non-oAL_ID').sort_values(by = 'Non-oAL_ID')\n",
    "\n",
    "# inter to nonoOAL\n",
    "sum_btoa = inter_multi.sum(level = \"Interneuron_ID\").sort_values(by = 'Interneuron_ID')\n",
    "\n",
    "# from inter to cx\n",
    "sum_btoc = btoc_multi.sum(level = \"Interneuron_ID\").sort_values(by = 'Interneuron_ID')\n",
    "\n",
    "# cx to inter\n",
    "sum_ctob = ctob_multi.sum(level = \"CX_ID\").sort_values(by = 'CX_ID')\n",
    "\n",
    "# cx to non-oal\n",
    "sum_ctoa = ctoa_multi.sum(level = \"CX_ID\").sort_values(by = 'CX_ID')"
   ]
  },
  {
   "cell_type": "markdown",
   "metadata": {},
   "source": [
    "## 3. Direct Relationship <a name = 'direct'></a>"
   ]
  },
  {
   "cell_type": "markdown",
   "metadata": {},
   "source": [
    "### Section 3.1 Read in CSV file/Query <a name = 'read2'></a>"
   ]
  },
  {
   "cell_type": "code",
   "execution_count": null,
   "metadata": {},
   "outputs": [],
   "source": [
    "direct = pd.read_csv('direct final.csv')\n",
    "direct = direct.reset_index().groupby(['Non-oAL Sensory Neurons', 'True CX Neurons'])['c.weight'].aggregate('first').unstack().fillna(0).astype(int)"
   ]
  },
  {
   "cell_type": "markdown",
   "metadata": {},
   "source": [
    "#### Run query and create DF"
   ]
  },
  {
   "cell_type": "code",
   "execution_count": null,
   "metadata": {},
   "outputs": [],
   "source": [
    "# uncomment if you are not using .env method and/or you haven't previously established a connection with neuprint\n",
    "# token = \"\"\n",
    "\n",
    "\n",
    "# establishes connection with neuprint\n",
    "# c = Client('neuprint-test.janelia.org', dataset='hemibrain', token = token, verify=True)"
   ]
  },
  {
   "cell_type": "code",
   "execution_count": null,
   "metadata": {},
   "outputs": [],
   "source": [
    "# starting body list\n",
    "body_list = []\n",
    "def create_query_dataframe():\n",
    "    query=fetch_custom(\"\"\"\\\n",
    "    WITH \"\"\" + str(body_list) + \"\"\" AS TARGETS\n",
    "    MATCH (a:Neuron)-[c:ConnectsTo]->(b:Neuron)\n",
    "    WHERE a.bodyId IN TARGETS AND b.`CX` AND c.weight >= 10\n",
    "    RETURN a.bodyId AS SENSORY, a.type AS SENSORY_TYPE, b.bodyId AS True_CX, b.type AS CX_Type, c.weight AS WEIGHT\n",
    "    ORDER BY b.bodyId DESC\n",
    "    \"\"\") \n",
    "    return query\n",
    "\n",
    "# store the results as \"df_direct\"\n",
    "df_direct = create_query_dataframe()"
   ]
  },
  {
   "cell_type": "code",
   "execution_count": null,
   "metadata": {},
   "outputs": [],
   "source": [
    "# main df\n",
    "df_direct"
   ]
  },
  {
   "cell_type": "code",
   "execution_count": null,
   "metadata": {},
   "outputs": [],
   "source": [
    "df_direct_heat = df_direct.reset_index().groupby(['SENSORY', 'True_CX'])['WEIGHT'].aggregate('first').unstack().fillna(0).astype(int)"
   ]
  },
  {
   "cell_type": "code",
   "execution_count": null,
   "metadata": {},
   "outputs": [],
   "source": [
    "df_direct_heat"
   ]
  },
  {
   "cell_type": "markdown",
   "metadata": {},
   "source": [
    "### Section 3.2 Visualization (Heatmap) <a name = 'visual'></a>\n",
    "\n",
    "#### Sub-Section 3.2.1 Heatmap by Body ID <a name = 'heat1'></a>"
   ]
  },
  {
   "cell_type": "code",
   "execution_count": null,
   "metadata": {},
   "outputs": [],
   "source": [
    "import matplotlib.pyplot as plt\n",
    "import seaborn as sns\n",
    "\n",
    "# color blind friendly colormap (not a gradient)\n",
    "CB_color_cycle = ['#377eb8', '#ff7f00', '#4daf4a',\n",
    "                  '#f781bf', '#a65628', '#984ea3',\n",
    "                  '#999999', '#e41a1c', '#dede00']\n",
    "# by body id\n",
    "heat = sns.heatmap(df_direct_heat, annot = True, fmt='d', cmap = CB_color_cycle) #cmap param allows you to change color palette/gradient\n",
    "plt.show()"
   ]
  },
  {
   "cell_type": "code",
   "execution_count": null,
   "metadata": {},
   "outputs": [],
   "source": [
    "# no colorblind palette\n",
    "heat = sns.heatmap(df_direct_heat, annot = True, fmt='d')\n",
    "plt.show()"
   ]
  },
  {
   "cell_type": "markdown",
   "metadata": {},
   "source": [
    "#### Sub-Section 3.2.2 Query by Type or Read in <a name = 'heat2'></a>"
   ]
  },
  {
   "cell_type": "code",
   "execution_count": null,
   "metadata": {},
   "outputs": [],
   "source": [
    "def create_query_dataframe_type():\n",
    "    query=fetch_custom(\"\"\"\\\n",
    "    WITH \"\"\" + str(body_list) + \"\"\" AS TARGETS\n",
    "    MATCH (a:Neuron)-[c:ConnectsTo]->(b:Neuron)\n",
    "    WHERE a.bodyId IN TARGETS AND b.`CX` AND c.weight >= 10\n",
    "    RETURN a.type AS SENSORY_TYPE, b.type AS CX_Type, SUM(c.weight) AS SUM_WEIGHT\n",
    "    \"\"\") \n",
    "    return query\n",
    "\n",
    "df_direct_type = create_query_dataframe_type()"
   ]
  },
  {
   "cell_type": "markdown",
   "metadata": {},
   "source": [
    "#### Read in CSV"
   ]
  },
  {
   "cell_type": "code",
   "execution_count": null,
   "metadata": {},
   "outputs": [],
   "source": [
    "# by type \n",
    "direct_type_csv = pd.read_csv(r\"C:\\Users\\17039\\Documents\\GitHub\\CAT-Connectome\\Lab Projects\\Jayaraman\\python\\Output files for cat-j python\\Direct Final Type.csv\")"
   ]
  },
  {
   "cell_type": "markdown",
   "metadata": {},
   "source": [
    "#### 3.2.2.1 Modify dataframe for heatmap <a name = 'mod'></a>\n",
    "##### Query"
   ]
  },
  {
   "cell_type": "code",
   "execution_count": null,
   "metadata": {},
   "outputs": [],
   "source": [
    "# using query DF\n",
    "direct_query = df_direct_type.reset_index().groupby(['SENSORY_TYPE', 'CX_Type'])['SUM_WEIGHT'].aggregate('first').unstack().fillna(0).astype(int)"
   ]
  },
  {
   "cell_type": "code",
   "execution_count": null,
   "metadata": {},
   "outputs": [],
   "source": [
    "heat = sns.heatmap(direct_query,annot = True, fmt='d')\n",
    "plt.show()"
   ]
  },
  {
   "cell_type": "markdown",
   "metadata": {},
   "source": [
    "##### Read In"
   ]
  },
  {
   "cell_type": "code",
   "execution_count": null,
   "metadata": {},
   "outputs": [],
   "source": [
    "# CSV read in\n",
    "direct_csv = direct_type_csv.reset_index().groupby(['Sensory Type', 'CX Type'])['SUM_WEIGHT'].aggregate('first').unstack().fillna(0).astype(int)"
   ]
  },
  {
   "cell_type": "code",
   "execution_count": null,
   "metadata": {},
   "outputs": [],
   "source": [
    "heat = sns.heatmap(direct_csv,annot = True, fmt='d')\n",
    "plt.show()"
   ]
  }
 ],
 "metadata": {
  "kernelspec": {
   "display_name": "Python 3",
   "language": "python",
   "name": "python3"
  },
  "language_info": {
   "codemirror_mode": {
    "name": "ipython",
    "version": 3
   },
   "file_extension": ".py",
   "mimetype": "text/x-python",
   "name": "python",
   "nbconvert_exporter": "python",
   "pygments_lexer": "ipython3",
   "version": "3.7.6"
  }
 },
 "nbformat": 4,
 "nbformat_minor": 4
}
