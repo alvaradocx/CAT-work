{
 "cells": [
  {
   "cell_type": "markdown",
   "metadata": {},
   "source": [
    "# Sunburst Plot for ROI Breakdown of Connectivity Locations\n",
    "   - This script has been modified from an original version provided by Emily Joyce\n",
    "   - Modifications include:\n",
    "        - different queries for a direct vs one-hop relationship\n",
    "        - link to ROI_hierarchy.csv for use with script\n",
    "        - dedicated variables for body ID lists to ease updating or changing the values\n",
    "        - dedicated token variable to ease updates or changes to another auth token\n",
    "   - Links to more information regarding sunburst plots and how to setup your system to run the script\n",
    "        - Sunburst plot basics: https://plotly.com/python/sunburst-charts/#basic-sunburst-plot-with-plotlyexpress\n",
    "        - Getting Started/setup: https://plotly.com/python/getting-started/#jupyterlab-support-python-35"
   ]
  },
  {
   "cell_type": "code",
   "execution_count": null,
   "metadata": {},
   "outputs": [],
   "source": [
    "from neuprint import Client, fetch_custom\n",
    "import pandas as pd\n",
    "import plotly.express as px\n",
    "import plotly as pio\n",
    "import json\n",
    "import numpy as np"
   ]
  },
  {
   "cell_type": "code",
   "execution_count": null,
   "metadata": {},
   "outputs": [],
   "source": [
    "# add your auth token here: token = 'abc123def456'\n",
    "token = \"\"\n",
    "\n",
    "c = Client('neuprint-test.janelia.org', dataset='hemibrain', token = token, verify=True)\n"
   ]
  },
  {
   "cell_type": "markdown",
   "metadata": {},
   "source": [
    "#### If you do not have a ROI_hierarchy.csv saved in the same folder as this file you can specify your path or you can run obtain the csv at https://github.com/alvaradocx/CAT-work/blob/main/ROI_hierarchy.csv"
   ]
  },
  {
   "cell_type": "markdown",
   "metadata": {},
   "source": [
    "## Direct Relationship\n",
    "Use the cell below for a direct realtionship (a->b)\n",
    "- this can also be used to look at the relationship between (a->b) or (b->c) in an (a->b->c) relationship"
   ]
  },
  {
   "cell_type": "code",
   "execution_count": null,
   "metadata": {},
   "outputs": [],
   "source": [
    "# add lists for all bodies of interest \n",
    "# body list for bodies in the starting position/most upstream\n",
    "sbody_list = []\n",
    "\n",
    "#  body list for the last/ending body\n",
    "ebody_list = []\n",
    "# if you want to apply a filter on the minimum number of synapses\n",
    "minw =[]\n",
    "\n",
    "# add you query here \n",
    "direct = f\" WITH {sbody_list} AS START, {ebody_list} AS END \\\n",
    "MATCH (a:Neuron)-[w:ConnectsTo]->(b:Neuron) \\\n",
    "WHERE a.bodyId IN START AND b.bodyId IN END AND w.weight >= {minw} \\\n",
    "RETURN a.bodyId, a.type, w.weight, w.roiInfo, b.bodyId, b.type\"\n",
    "\n",
    "# specify the roiInfo column whose data you want to plot. \n",
    "# in the form: column = 'column_name'\n",
    "column = 'w.roiInfo'"
   ]
  },
  {
   "cell_type": "markdown",
   "metadata": {},
   "source": [
    "## One Hop Relationship\n",
    "Use the cell below for a one hop relationship (a->b->c)"
   ]
  },
  {
   "cell_type": "code",
   "execution_count": null,
   "metadata": {},
   "outputs": [],
   "source": [
    "#add lists for all bodies of interest along the way a->b->c\n",
    "#body list for bodies in the starting position/most upstream\n",
    "sbody_list = []\n",
    "#body list for all bodies in the interneuron/mid position\n",
    "ibody_list = []\n",
    "# body list for the last/ending body\n",
    "ebody_list = []\n",
    "\n",
    "# if you want to apply a filter on the minimum number of synapses for the relationship a->b\n",
    "minw =[]\n",
    "# if you want to apply a filter on the minimum number of synapses for the relationship b->c\n",
    "minw2 =[]\n",
    "# add you query here \n",
    "one_hop = f\" WITH {sbody_list} AS START,{ibody_list} AS MID, {ebody_list} AS END \\\n",
    "MATCH (a:Neuron)-[w:ConnectsTo]->(b:Neuron)-[ww:ConnectsTo]->(c:Neuron) \\\n",
    "WHERE a.bodyId IN START AND b.bodyId IN MID AND c.bodyId IN END AND w.weight >= {minw} and ww.weight >= {minw2} \\\n",
    "RETURN a.bodyId, a.type, w.weight, w.roiInfo, b.bodyId, b.type, ww.weight, ww.roiInfo, c.bodyId, c.type\"\n",
    "\n",
    "# specify the roiInfo column whose data you want to plot. \n",
    "# in the form: column = 'column_name'\n",
    "column = 'w.roiInfo'\n"
   ]
  },
  {
   "cell_type": "code",
   "execution_count": null,
   "metadata": {},
   "outputs": [],
   "source": [
    "# run query but specify if one_hop or direct query\n",
    "df=fetch_custom(direct)\n",
    "\n",
    "# add a column where you read the column of interest as a json(dict)\n",
    "df['json1']=df[column].apply(json.loads)"
   ]
  },
  {
   "cell_type": "code",
   "execution_count": null,
   "metadata": {},
   "outputs": [],
   "source": [
    "def create__connectivity_plot(df_col):\n",
    "    \n",
    "    '''\n",
    "    \n",
    "    adds a synapse count column to 'hierarchy' that acts as a running \n",
    "    tally of the number of synapses in that ROI for a specific column\n",
    "    of a data frame (containing roiInfo)\n",
    "    \n",
    "    '''\n",
    "    \n",
    "    # read hierarchy or ROIs spreadsheet\n",
    "    hierarchy = pd.read_csv('ROI_hierarchy.csv')\n",
    "\n",
    "    # add a new column \"synapse count\" where each cell in that column = 0\n",
    "    hierarchy['synapse_count'] = [0]*len(hierarchy)\n",
    "    \n",
    "    \n",
    "    # count how many synapses are in each ROI \n",
    "    for roi_dict in df_col:\n",
    "        \n",
    "        for roi, syn in roi_dict.items():\n",
    "            \n",
    "            '''\n",
    "            \n",
    "            We need to count the number of synapses in this ROI on \n",
    "            this synapse between 2 neurons. We need pre OR post. \n",
    "            sometimes pre=1 and post = null if the synapse is on the \n",
    "            edge of an ROI. Account for that here:\n",
    "            \n",
    "            '''\n",
    "            try: \n",
    "                syn = syn['pre']\n",
    "            except:\n",
    "                syn = syn['post']\n",
    "                \n",
    "            '''\n",
    "            \n",
    "            add that syn number to that roi's synapse count in \n",
    "            the hierarchy graph\n",
    "            \n",
    "            '''\n",
    "                \n",
    "            hierarchy.loc[hierarchy[hierarchy['ROI_all'] == roi].index,'synapse_count'] += syn\n",
    "     \n",
    "    # remove rows with a synapse count of 0\n",
    "    hierarchy = hierarchy[hierarchy['synapse_count'] != 0]\n",
    "    \n",
    "    # remove rows where the global ROI is the same as the roi_all,\n",
    "    # unless there is only one row with that global ROI.\n",
    "    global_counts = (hierarchy['Global'].value_counts())\n",
    "    for idx, row in hierarchy.iterrows():\n",
    "        \n",
    "        if global_counts[row['Global']] == 1:\n",
    "            continue\n",
    "        elif row['ROI_all'] == row['Global']:\n",
    "            hierarchy.drop(idx, inplace=True)\n",
    "        else:\n",
    "            continue \n",
    "                \n",
    "    # this is only ploting Global ROIs and their direct sub ROIs. \n",
    "    sbplot = px.sunburst(hierarchy, path=['Global','ROI'], values='synapse_count')\n",
    "   \n",
    "\n",
    "    return sbplot\n",
    "    \n",
    "    "
   ]
  },
  {
   "cell_type": "code",
   "execution_count": null,
   "metadata": {},
   "outputs": [],
   "source": [
    "#plot creation\n",
    "sbplot1 = create__connectivity_plot(df['json1'])\n",
    "sbplot1"
   ]
  },
  {
   "cell_type": "markdown",
   "metadata": {},
   "source": [
    "## Image Export\n",
    "- you can export and interactive version of the plot or a static version\n",
    "- static export can be done in JupyterLab. \n",
    "    - Hover over the plot and click the camera icon in the top right to download your plot as a png <font color=red>(recommended over advanced)\n",
    "- more advanced static image export formats and instructions can be located at: https://plotly.com/python/static-image-export/"
   ]
  },
  {
   "cell_type": "code",
   "execution_count": null,
   "metadata": {},
   "outputs": [],
   "source": [
    "# interactive export, make sure to name your file!\n",
    "sbplot1.write_html(\".html\")"
   ]
  }
 ],
 "metadata": {
  "kernelspec": {
   "display_name": "Python 3",
   "language": "python",
   "name": "python3"
  },
  "language_info": {
   "codemirror_mode": {
    "name": "ipython",
    "version": 3
   },
   "file_extension": ".py",
   "mimetype": "text/x-python",
   "name": "python",
   "nbconvert_exporter": "python",
   "pygments_lexer": "ipython3",
   "version": "3.7.6"
  }
 },
 "nbformat": 4,
 "nbformat_minor": 4
}
